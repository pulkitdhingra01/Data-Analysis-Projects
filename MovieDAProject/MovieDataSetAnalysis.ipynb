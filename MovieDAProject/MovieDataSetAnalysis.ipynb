{
 "cells": [
  {
   "cell_type": "code",
   "execution_count": 2,
   "metadata": {},
   "outputs": [
    {
     "name": "stdout",
     "output_type": "stream",
     "text": [
      "Movies Header:\n",
      " ['budget', 'genres', 'id', 'original_language', 'overview', 'popularity', 'production_countries', 'release_date', 'revenue', 'runtime', 'status', 'vote_average', 'vote_count', 'title_movies', 'Director']\n"
     ]
    }
   ],
   "source": [
    "from csv import reader\n",
    "\n",
    "def explore_data(dataset, start, end, rows_and_columns=False):\n",
    "    \"\"\"Explore the elements of a list.\n",
    "    \n",
    "    Print the elements of a list starting from the index 'start'(included) upto the index 'end'         (excluded).\n",
    "    \n",
    "    Keyword arguments:\n",
    "    dataset -- list of which we want to see the elements\n",
    "    start -- index of the first element we want to see, this is included\n",
    "    end -- index of the stopping element, this is excluded \n",
    "    rows_and_columns -- this parameter is optional while calling the function. It takes binary          values, either True or False. If true, print the dimension of the list, else dont.\n",
    "    \"\"\"\n",
    "    \n",
    "    \n",
    "    dataset_slice = dataset[start:end]    \n",
    "    for row in dataset_slice:\n",
    "        print(row)\n",
    "        print('\\n') # adds a new (empty) line between rows\n",
    "        \n",
    "    if rows_and_columns:\n",
    "        print('Number of rows:', len(dataset))\n",
    "        print('Number of columns:', len(dataset[0]))\n",
    "        \n",
    "     \n",
    "\n",
    "\n",
    "def duplicate_and_unique_movies(dataset, index_):\n",
    "    \"\"\"Check the duplicate and unique entries.\n",
    "    \n",
    "    We have nested list. This function checks if the rows in the list is unique or duplicated based     on the element at index 'index_'.\n",
    "    It prints the Number of duplicate entries, along with some examples of duplicated entry.\n",
    "    \n",
    "    Keyword arguments:\n",
    "    dataset -- two dimensional list which we want to explore\n",
    "    index_ -- column index at which the element in each row would be checked for duplicacy \n",
    "    \n",
    "    \"\"\"\n",
    "    \n",
    "    duplicate = []\n",
    "    unique = []\n",
    "\n",
    "    for movie in dataset:\n",
    "        name = movie[index_]\n",
    "        if name in unique:\n",
    "            duplicate.append(name)\n",
    "        else:\n",
    "            unique.append(name)\n",
    "\n",
    "    print('Number of duplicate Movies:', len(duplicate))\n",
    "    print('\\n')\n",
    "    print('Examples of duplicate Movies:', duplicate[:15])\n",
    "    \n",
    "\n",
    "\n",
    "\n",
    "def movies_lang(dataset, index_, lang_):\n",
    "    \"\"\"Extract the movies of a particular language.\n",
    "    \n",
    "    Of all the movies available in all languages, this function extracts all the movies in a            particular laguage.\n",
    "    Once you ahve extracted the movies, call the explore_data() to print first few rows.\n",
    "    \n",
    "    Keyword arguments:\n",
    "    dataset -- list containing the details of the movie\n",
    "    index_ -- index which is to be compared for langauges\n",
    "    lang_ -- desired language for which we want to filter out the movies\n",
    "    \n",
    "    Returns:\n",
    "    movies_ -- list with details of the movies in selected language\n",
    "    \n",
    "    \"\"\"\n",
    "    movies_ = []\n",
    "\n",
    "    for movie in movies:\n",
    "        lang = movie[index_]\n",
    "        if lang == lang_:\n",
    "            movies_.append(movie)\n",
    "\n",
    "    print(\"Examples of Movies in English Language:\")    \n",
    "    explore_data(movies_, 0, 3, True)\n",
    "    return movies_\n",
    "    \n",
    "\n",
    "\n",
    "def rate_bucket(dataset, rate_low, rate_high):\n",
    "    \"\"\"Extract the movies within the specified ratings.\n",
    "    \n",
    "    This function extracts all the movies that has rating between rate_low and high_rate.\n",
    "    Once you ahve extracted the movies, call the explore_data() to print first few rows.\n",
    "    \n",
    "    Keyword arguments:\n",
    "    dataset -- list containing the details of the movie\n",
    "    rate_low -- lower range of rating\n",
    "    rate_high -- higher range of rating\n",
    "    \n",
    "    Returns:\n",
    "    rated_movies -- list of the details of the movies with required ratings\n",
    "    \"\"\"\n",
    "\n",
    "    rated_movies = []\n",
    "\n",
    "    for movie in dataset:\n",
    "        vote_avg = float(movie[-4])\n",
    "        if ((vote_avg >= rate_low) & (vote_avg <= rate_high)):\n",
    "            rated_movies.append(movie)\n",
    "\n",
    "    print(\"Examples of Movies in required rating bucket:\")    \n",
    "    explore_data(rated_movies, 0, 3, True)\n",
    "    return rated_movies\n",
    "\n",
    "\n",
    "# Read the data file and store it as a list 'movies'\n",
    "path=r\"C:\\Users\\praya\\Documents\\Python Scripts\\file (2).csv\"\n",
    "opened_file = open(path, encoding=\"utf8\")\n",
    "read_file = reader(opened_file)\n",
    "movies = list(read_file)\n",
    "\n",
    "# The first row is header. Extract and store it in 'movies_header'.\n",
    "movies_header = movies[0]\n",
    "print(\"Movies Header:\\n\", movies_header)\n",
    "\n",
    "# Subset the movies dataset such that the header is removed from the list and store it back in movies\n",
    "movies = movies[1:]\n",
    "\n",
    "\n",
    "\n"
   ]
  },
  {
   "cell_type": "code",
   "execution_count": 3,
   "metadata": {},
   "outputs": [
    {
     "name": "stdout",
     "output_type": "stream",
     "text": [
      "Entry at index 4553:\n",
      "['0', '[]', '380097', 'en', '1971 post civil rights San Francisco seemed like the perfect place for a black Korean War veteran and his family to realize their dream of economic independence and his own chance to be his a \"boss\". Charlie Walker would soon find out how naive he was. In a city full of impostors and naysayers, he refused to take \"No\" for an answer. Until a catastrophic disaster opened a door that had never been open to a black man before. This is a story about what happened when he stepped through that door, with both feet!.', '0.0', '[]', '', '0', '0.0', 'Released', '0.0', '0', 'America Is Still the Place', '']\n",
      "\n",
      "\n"
     ]
    }
   ],
   "source": [
    "# Delete wrong data\n",
    "# Explore the row #4553. You will see that as apart from the id, description, status and title, no other information is available.\n",
    "# Hence drop this row.\n",
    "\n",
    "print(\"Entry at index 4553:\")\n",
    "explore_data(movies, 4553, 4554)\n",
    "\n",
    "del movies[4553]"
   ]
  },
  {
   "cell_type": "code",
   "execution_count": 4,
   "metadata": {},
   "outputs": [
    {
     "name": "stdout",
     "output_type": "stream",
     "text": [
      "First 5 Entries:\n",
      "['237000000', \"['Action', 'Adventure', 'Fantasy', 'Science Fiction']\", '19995', 'en', 'In the 22nd century, a paraplegic Marine is dispatched to the moon Pandora on a unique mission, but becomes torn between following orders and protecting an alien civilization.', '150.437577', \"['United States of America', 'United Kingdom']\", '2009-12-10', '2787965087', '162.0', 'Released', '7.2', '11800', 'Avatar', 'James Cameron']\n",
      "\n",
      "\n",
      "['300000000', \"['Adventure', 'Fantasy', 'Action']\", '285', 'en', 'Captain Barbossa, long believed to be dead, has come back to life and is headed to the edge of the Earth with Will Turner and Elizabeth Swann. But nothing is quite as it seems.', '139.082615', \"['United States of America']\", '2007-05-19', '961000000', '169.0', 'Released', '6.9', '4500', \"Pirates of the Caribbean: At World's End\", 'Gore Verbinski']\n",
      "\n",
      "\n",
      "['245000000', \"['Action', 'Adventure', 'Crime']\", '206647', 'en', 'A cryptic message from Bond’s past sends him on a trail to uncover a sinister organization. While M battles political forces to keep the secret service alive, Bond peels back the layers of deceit to reveal the terrible truth behind SPECTRE.', '107.37678799999999', \"['United Kingdom', 'United States of America']\", '2015-10-26', '880674609', '148.0', 'Released', '6.3', '4466', 'Spectre', 'Sam Mendes']\n",
      "\n",
      "\n",
      "['250000000', \"['Action', 'Crime', 'Drama', 'Thriller']\", '49026', 'en', \"Following the death of District Attorney Harvey Dent, Batman assumes responsibility for Dent's crimes to protect the late attorney's reputation and is subsequently hunted by the Gotham City Police Department. Eight years later, Batman encounters the mysterious Selina Kyle and the villainous Bane, a new terrorist leader who overwhelms Gotham's finest. The Dark Knight resurfaces to protect a city that has branded him an enemy.\", '112.31295', \"['United States of America']\", '2012-07-16', '1084939099', '165.0', 'Released', '7.6', '9106', 'The Dark Knight Rises', 'Christopher Nolan']\n",
      "\n",
      "\n",
      "['260000000', \"['Action', 'Adventure', 'Science Fiction']\", '49529', 'en', \"John Carter is a war-weary, former military captain who's inexplicably transported to the mysterious and exotic planet of Barsoom (Mars) and reluctantly becomes embroiled in an epic conflict. It's a world on the brink of collapse, and Carter rediscovers his humanity when he realizes the survival of Barsoom and its people rests in his hands.\", '43.926995', \"['United States of America']\", '2012-03-07', '284139100', '132.0', 'Released', '6.1', '2124', 'John Carter', 'Andrew Stanton']\n",
      "\n",
      "\n",
      "Number of rows: 4802\n",
      "Number of columns: 15\n"
     ]
    }
   ],
   "source": [
    "# Using explore_data() with appropriate parameters, view the details of the first 5 movies.\n",
    "print(\"First 5 Entries:\")\n",
    "explore_data(movies, 0, 5, True)"
   ]
  },
  {
   "cell_type": "code",
   "execution_count": 5,
   "metadata": {},
   "outputs": [
    {
     "name": "stdout",
     "output_type": "stream",
     "text": [
      "Number of duplicate Movies: 3\n",
      "\n",
      "\n",
      "Examples of duplicate Movies: ['The Host', 'Out of the Blue', 'Batman']\n"
     ]
    }
   ],
   "source": [
    "# Our dataset might have more than one entry for a movie. Call duplicate_and_unique_movies() with index of the name to check the same.\n",
    "\n",
    "duplicate_and_unique_movies(movies, 13)\n"
   ]
  },
  {
   "cell_type": "code",
   "execution_count": 6,
   "metadata": {},
   "outputs": [
    {
     "data": {
      "text/plain": [
       "4799"
      ]
     },
     "execution_count": 6,
     "metadata": {},
     "output_type": "execute_result"
    }
   ],
   "source": [
    "# We saw that there are 3 movies for which the there are multiple entries. \n",
    "# Create a dictionary, 'reviews_max' that will have the name of the movie as key, and the maximum number of reviews as values.\n",
    "\n",
    "reviews_max = {}\n",
    "\n",
    "for movie in movies:\n",
    "    name = movie[13]\n",
    "    n_reviews = float(movie[12])\n",
    "    \n",
    "    if name in reviews_max and reviews_max[name] < n_reviews:\n",
    "        reviews_max[name] = n_reviews\n",
    "        \n",
    "    elif name not in reviews_max:\n",
    "        reviews_max[name] = n_reviews\n",
    "        \n",
    "len(reviews_max)\n",
    "\n"
   ]
  },
  {
   "cell_type": "code",
   "execution_count": 8,
   "metadata": {},
   "outputs": [
    {
     "data": {
      "text/plain": [
       "4799"
      ]
     },
     "execution_count": 8,
     "metadata": {},
     "output_type": "execute_result"
    }
   ],
   "source": [
    "# Create a list 'movies_clean', which will filter out the duplicate movies and contain the rows with maximum number of reviews for duplicate movies, as stored in 'review_max'. \n",
    "\n",
    "movies_clean = []\n",
    "already_added = []\n",
    "\n",
    "for movie in movies:\n",
    "    name = movie[13]\n",
    "    n_reviews = float(movie[12])\n",
    "    \n",
    "    if (reviews_max[name] == n_reviews) and (name not in already_added):\n",
    "        movies_clean.append(movie)\n",
    "        already_added.append(name)\n",
    "        \n",
    "len(movies_clean)"
   ]
  },
  {
   "cell_type": "code",
   "execution_count": 10,
   "metadata": {},
   "outputs": [
    {
     "name": "stdout",
     "output_type": "stream",
     "text": [
      "Examples of Movies in English Language:\n",
      "['237000000', \"['Action', 'Adventure', 'Fantasy', 'Science Fiction']\", '19995', 'en', 'In the 22nd century, a paraplegic Marine is dispatched to the moon Pandora on a unique mission, but becomes torn between following orders and protecting an alien civilization.', '150.437577', \"['United States of America', 'United Kingdom']\", '2009-12-10', '2787965087', '162.0', 'Released', '7.2', '11800', 'Avatar', 'James Cameron']\n",
      "\n",
      "\n",
      "['300000000', \"['Adventure', 'Fantasy', 'Action']\", '285', 'en', 'Captain Barbossa, long believed to be dead, has come back to life and is headed to the edge of the Earth with Will Turner and Elizabeth Swann. But nothing is quite as it seems.', '139.082615', \"['United States of America']\", '2007-05-19', '961000000', '169.0', 'Released', '6.9', '4500', \"Pirates of the Caribbean: At World's End\", 'Gore Verbinski']\n",
      "\n",
      "\n",
      "['245000000', \"['Action', 'Adventure', 'Crime']\", '206647', 'en', 'A cryptic message from Bond’s past sends him on a trail to uncover a sinister organization. While M battles political forces to keep the secret service alive, Bond peels back the layers of deceit to reveal the terrible truth behind SPECTRE.', '107.37678799999999', \"['United Kingdom', 'United States of America']\", '2015-10-26', '880674609', '148.0', 'Released', '6.3', '4466', 'Spectre', 'Sam Mendes']\n",
      "\n",
      "\n",
      "Number of rows: 4504\n",
      "Number of columns: 15\n"
     ]
    }
   ],
   "source": [
    "# Calling movies_lang(), extract all the english movies and store it in movies_en.\n",
    "\n",
    "movies_en = movies_lang(movies_clean, 3, 'en')\n",
    "\n",
    "\n",
    "\n",
    "\n"
   ]
  },
  {
   "cell_type": "code",
   "execution_count": 11,
   "metadata": {},
   "outputs": [
    {
     "name": "stdout",
     "output_type": "stream",
     "text": [
      "Examples of Movies in required rating bucket:\n",
      "['185000000', \"['Drama', 'Action', 'Crime', 'Thriller']\", '155', 'en', 'Batman raises the stakes in his war on crime. With the help of Lt. Jim Gordon and District Attorney Harvey Dent, Batman sets out to dismantle the remaining criminal organizations that plague the streets. The partnership proves to be effective, but they soon find themselves prey to a reign of chaos unleashed by a rising criminal mastermind known to the terrified citizens of Gotham as the Joker.', '187.322927', \"['United Kingdom', 'United States of America']\", '2008-07-16', '1004558444', '152.0', 'Released', '8.2', '12002', 'The Dark Knight', 'Christopher Nolan']\n",
      "\n",
      "\n",
      "['175000000', \"['Drama', 'Comedy', 'Animation', 'Family']\", '150540', 'en', \"Growing up can be a bumpy road, and it's no exception for Riley, who is uprooted from her Midwest life when her father starts a new job in San Francisco. Like all of us, Riley is guided by her emotions - Joy, Fear, Anger, Disgust and Sadness. The emotions live in Headquarters, the control center inside Riley's mind, where they help advise her through everyday life. As Riley and her emotions struggle to adjust to a new life in San Francisco, turmoil ensues in Headquarters. Although Joy, Riley's main and most important emotion, tries to keep things positive, the emotions conflict on how best to navigate a new city, house and school.\", '128.65596399999998', \"['United States of America']\", '2015-06-09', '857611174', '94.0', 'Released', '8.0', '6560', 'Inside Out', 'Pete Docter']\n",
      "\n",
      "\n",
      "['165000000', \"['Adventure', 'Drama', 'Science Fiction']\", '157336', 'en', 'Interstellar chronicles the adventures of a group of explorers who make use of a newly discovered wormhole to surpass the limitations on human space travel and conquer the vast distances involved in an interstellar voyage.', '724.247784', \"['Canada', 'United States of America', 'United Kingdom']\", '2014-11-05', '675120017', '169.0', 'Released', '8.1', '10867', 'Interstellar', 'Christopher Nolan']\n",
      "\n",
      "\n",
      "Number of rows: 76\n",
      "Number of columns: 15\n"
     ]
    }
   ],
   "source": [
    "# Call the rate_bucket function to see the movies with rating higher than 8.\n",
    "\n",
    "high_rated_movies = rate_bucket(movies_en, 8, 10)\n"
   ]
  },
  {
   "cell_type": "code",
   "execution_count": null,
   "metadata": {},
   "outputs": [],
   "source": []
  }
 ],
 "metadata": {
  "kernelspec": {
   "display_name": "Python 3",
   "language": "python",
   "name": "python3"
  },
  "language_info": {
   "codemirror_mode": {
    "name": "ipython",
    "version": 3
   },
   "file_extension": ".py",
   "mimetype": "text/x-python",
   "name": "python",
   "nbconvert_exporter": "python",
   "pygments_lexer": "ipython3",
   "version": "3.7.6"
  }
 },
 "nbformat": 4,
 "nbformat_minor": 4
}
